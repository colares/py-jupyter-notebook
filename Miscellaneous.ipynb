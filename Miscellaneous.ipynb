{
 "cells": [
  {
   "cell_type": "code",
   "execution_count": null,
   "metadata": {},
   "outputs": [],
   "source": [
    "matrix = [[0, 1, 1, 2], \n",
    "          [0, 5, 0, 0], \n",
    "          [2, 0, 3, 3]]\n",
    "\n",
    "height,total = len(matrix),0\n",
    "for x in range(0,len(matrix[0])):  \n",
    "    haunted = False\n",
    "    for y in range(0,height):\n",
    "        if matrix[y][x] == 0:\n",
    "            haunted = True\n",
    "        if haunted:\n",
    "           matrix[y][x] = 0 \n",
    "        total+=matrix[y][x]\n",
    "\n"
   ]
  },
  {
   "cell_type": "code",
   "execution_count": null,
   "metadata": {},
   "outputs": [],
   "source": [
    "sum([1,2,3])"
   ]
  },
  {
   "cell_type": "code",
   "execution_count": null,
   "metadata": {},
   "outputs": [],
   "source": [
    "inputArray = [\"aba\", \"aa\", \"ad\", \"vcd\", \"aba\"]\n",
    "def allLongestStrings(inputArray):\n",
    "    inputArray.sort(key=lambda w: len(w), reverse=True)\n",
    "    return [w for w in inputArray if len(w) > len(inputArray[0])]\n",
    "    \n",
    "    \n",
    "print(allLongestStrings(inputArray))\n"
   ]
  },
  {
   "cell_type": "code",
   "execution_count": null,
   "metadata": {},
   "outputs": [],
   "source": [
    "def commonCharacterCount(s1, s2):\n",
    "    count = 0\n",
    "    for c in s1:\n",
    "        if c in s2:\n",
    "            count+=1\n",
    "            s2 = s2.replace(c,'',1)\n",
    "    print([(lambda c: s2 = s2.replace(c,'',1))(c) for c in s1])\n",
    "    return count\n",
    "    \n",
    "s1 = \"aabcc\"\n",
    "s2 = \"adcaa\"\n",
    "\n",
    "print(commonCharacterCount(s1,s2))"
   ]
  },
  {
   "cell_type": "code",
   "execution_count": null,
   "metadata": {},
   "outputs": [],
   "source": [
    "l = [1,2,3]"
   ]
  },
  {
   "cell_type": "code",
   "execution_count": null,
   "metadata": {},
   "outputs": [],
   "source": [
    "del l[0]"
   ]
  },
  {
   "cell_type": "code",
   "execution_count": null,
   "metadata": {},
   "outputs": [],
   "source": [
    "l"
   ]
  },
  {
   "cell_type": "code",
   "execution_count": null,
   "metadata": {},
   "outputs": [],
   "source": [
    "l.remove(2)"
   ]
  },
  {
   "cell_type": "code",
   "execution_count": null,
   "metadata": {},
   "outputs": [],
   "source": [
    "d = 1234"
   ]
  },
  {
   "cell_type": "code",
   "execution_count": null,
   "metadata": {},
   "outputs": [],
   "source": [
    "d"
   ]
  },
  {
   "cell_type": "code",
   "execution_count": null,
   "metadata": {},
   "outputs": [],
   "source": [
    "list(d[:len(d)//2])"
   ]
  },
  {
   "cell_type": "code",
   "execution_count": null,
   "metadata": {},
   "outputs": [],
   "source": [
    "d = 1230"
   ]
  },
  {
   "cell_type": "code",
   "execution_count": null,
   "metadata": {},
   "outputs": [],
   "source": [
    "l = [int(d) for d in str(d)]"
   ]
  },
  {
   "cell_type": "code",
   "execution_count": null,
   "metadata": {},
   "outputs": [],
   "source": [
    "print(sum(l[:len(l)//2]))\n",
    "print(sum(l[len(l)//2:]))"
   ]
  },
  {
   "cell_type": "code",
   "execution_count": 74,
   "metadata": {},
   "outputs": [],
   "source": [
    "def isLucky(n):\n",
    "    l = [int(d) for d in str(d)]\n",
    "    return sum(l[:len(l)//2]) == sum(l[len(l)//2:])"
   ]
  },
  {
   "cell_type": "code",
   "execution_count": 2,
   "metadata": {},
   "outputs": [],
   "source": [
    "a = [-1, 150, 190, 170, -1, -1, 160, 180]"
   ]
  },
  {
   "cell_type": "code",
   "execution_count": null,
   "metadata": {},
   "outputs": [],
   "source": [
    "l = [b for b in a if b != -1]\n",
    "l.sort()"
   ]
  },
  {
   "cell_type": "code",
   "execution_count": null,
   "metadata": {},
   "outputs": [],
   "source": [
    "l"
   ]
  },
  {
   "cell_type": "code",
   "execution_count": 88,
   "metadata": {},
   "outputs": [],
   "source": [
    "trees = [(i,t) for i,t in enumerate(a) if t == -1 ]"
   ]
  },
  {
   "cell_type": "code",
   "execution_count": 89,
   "metadata": {},
   "outputs": [
    {
     "data": {
      "text/plain": [
       "[(0, -1), (4, -1), (5, -1)]"
      ]
     },
     "execution_count": 89,
     "metadata": {},
     "output_type": "execute_result"
    }
   ],
   "source": [
    "trees\n"
   ]
  },
  {
   "cell_type": "code",
   "execution_count": 17,
   "metadata": {},
   "outputs": [
    {
     "data": {
      "text/plain": [
       "[-1, 190, 180, 170, -1, -1, 160, 150]"
      ]
     },
     "execution_count": 17,
     "metadata": {},
     "output_type": "execute_result"
    }
   ],
   "source": [
    "def sortByHeight(a):\n",
    "    l = sorted([b for b in a if b != -1], reverse=True)\n",
    "    trees = [(i,t) for i,t in enumerate(a) if t == -1 ]\n",
    "    for i,t in trees:\n",
    "        l.insert(i,t)\n",
    "    return l\n",
    "\n",
    "sortByHeight([-1, 150, 190, 170, -1, -1, 160, 180])\n",
    "    "
   ]
  },
  {
   "cell_type": "code",
   "execution_count": 2,
   "metadata": {},
   "outputs": [],
   "source": [
    "bli = [1,2,3]"
   ]
  },
  {
   "cell_type": "code",
   "execution_count": 3,
   "metadata": {},
   "outputs": [],
   "source": [
    "bli.insert(1,3)"
   ]
  },
  {
   "cell_type": "code",
   "execution_count": 13,
   "metadata": {},
   "outputs": [],
   "source": [
    "non1 = sorted(list(filter(lambda x: x != -1, a)), reverse=True)"
   ]
  },
  {
   "cell_type": "code",
   "execution_count": 14,
   "metadata": {},
   "outputs": [
    {
     "data": {
      "text/plain": [
       "[190, 180, 170, 160, 150]"
      ]
     },
     "execution_count": 14,
     "metadata": {},
     "output_type": "execute_result"
    }
   ],
   "source": [
    "non1"
   ]
  },
  {
   "cell_type": "code",
   "execution_count": 104,
   "metadata": {},
   "outputs": [
    {
     "data": {
      "text/plain": [
       "'asdasg(ogaiht)dsa(tig)dsf'"
      ]
     },
     "execution_count": 104,
     "metadata": {},
     "output_type": "execute_result"
    }
   ],
   "source": [
    "s = \"asdasg(ogaiht)dsa(tig)dsf\"\n",
    "s"
   ]
  },
  {
   "cell_type": "code",
   "execution_count": 105,
   "metadata": {},
   "outputs": [],
   "source": [
    "t = [(i,t) for i,t in enumerate(list(s)) if t=='(' or t==')']"
   ]
  },
  {
   "cell_type": "code",
   "execution_count": 106,
   "metadata": {},
   "outputs": [
    {
     "data": {
      "text/plain": [
       "[(6, '('), (13, ')'), (17, '('), (21, ')')]"
      ]
     },
     "execution_count": 106,
     "metadata": {},
     "output_type": "execute_result"
    }
   ],
   "source": [
    "t"
   ]
  },
  {
   "cell_type": "code",
   "execution_count": 107,
   "metadata": {},
   "outputs": [
    {
     "name": "stdout",
     "output_type": "stream",
     "text": [
      "(6, '(') (13, ')')\n",
      "asdasg(\n",
      "thiago\n",
      "(17, '(') (21, ')')\n",
      "asdasg(ogaiht)dsa(\n",
      "git\n",
      "asdasg(thiagoasdasg(ogaiht)dsa(git)dsf\n"
     ]
    }
   ],
   "source": [
    "res = ''\n",
    "for i in range(0,len(t),2):\n",
    "    print(t[i],t[i+1])\n",
    "#     print(s[:t[i][0]] + s[ t[i][0]+1 : t[t+1][0] ][::-1])\n",
    "    print(s[:t[i][0]+1])\n",
    "    print(s[ t[i][0]+1 : t[i+1][0] ][::-1])\n",
    "    res+=s[:t[i][0]+1] + s[ t[i][0]+1 : t[i+1][0] ][::-1]\n",
    "print(res + s[t[-1][0]:])"
   ]
  },
  {
   "cell_type": "code",
   "execution_count": 76,
   "metadata": {},
   "outputs": [
    {
     "name": "stdout",
     "output_type": "stream",
     "text": [
      "wwaacc\n"
     ]
    }
   ],
   "source": [
    "bli = 'wwddcc'\n",
    "bli = bli[:2] + 'aa' + bli[4:]\n",
    "print(bli)"
   ]
  },
  {
   "cell_type": "code",
   "execution_count": 66,
   "metadata": {},
   "outputs": [],
   "source": [
    "a = (1,2)"
   ]
  },
  {
   "cell_type": "code",
   "execution_count": 68,
   "metadata": {},
   "outputs": [
    {
     "data": {
      "text/plain": [
       "1"
      ]
     },
     "execution_count": 68,
     "metadata": {},
     "output_type": "execute_result"
    }
   ],
   "source": [
    "a[0]"
   ]
  },
  {
   "cell_type": "code",
   "execution_count": 108,
   "metadata": {},
   "outputs": [
    {
     "data": {
      "text/plain": [
       "'asdasg(ogaiht)dsa(tig)dsf'"
      ]
     },
     "execution_count": 108,
     "metadata": {},
     "output_type": "execute_result"
    }
   ],
   "source": [
    "s = \"asdasg(ogaiht)dsa(tig)dsf\"\n",
    "s"
   ]
  },
  {
   "cell_type": "code",
   "execution_count": 113,
   "metadata": {},
   "outputs": [
    {
     "data": {
      "text/plain": [
       "['asdasg(ogaiht', 'dsa(tig', 'dsf']"
      ]
     },
     "execution_count": 113,
     "metadata": {},
     "output_type": "execute_result"
    }
   ],
   "source": [
    "s2 = s.split(')')\n",
    "s2"
   ]
  },
  {
   "cell_type": "code",
   "execution_count": 114,
   "metadata": {},
   "outputs": [
    {
     "data": {
      "text/plain": [
       "['asdasgthiago', 'dsa(tig', 'dsf']"
      ]
     },
     "execution_count": 114,
     "metadata": {},
     "output_type": "execute_result"
    }
   ],
   "source": [
    "s3 = s2[0].split('(')\n",
    "s2[0] = s3[0]+s3[1][::-1]\n",
    "s2"
   ]
  },
  {
   "cell_type": "code",
   "execution_count": 126,
   "metadata": {},
   "outputs": [
    {
     "name": "stdout",
     "output_type": "stream",
     "text": [
      "s3 ['asdasg', 'ogaiht']\n",
      "asdasgthiago\n",
      "s3 ['dsa', 'tig']\n",
      "dsagit\n",
      "s3 ['dsf']\n",
      "['asdasgthiago', 'dsagit', 'dsf']\n",
      "asdasgthiagodsagitdsf\n"
     ]
    }
   ],
   "source": [
    "def reverseParentheses(s):\n",
    "    s2 = s.split(')')\n",
    "    for i,piece in enumerate(s2):\n",
    "        s3 = s2[i].split('(')\n",
    "        print('s3', s3)\n",
    "        if(len(s3)==2):\n",
    "            print(s3[0]+s3[1][::-1])\n",
    "            s2[i] = s3[0]+s3[1][::-1]\n",
    "    print(s2)\n",
    "    print(''.join(s2))\n",
    "reverseParentheses(s)       "
   ]
  },
  {
   "cell_type": "code",
   "execution_count": 140,
   "metadata": {},
   "outputs": [],
   "source": [
    "s = 'a(bcdefghijkl(mno)p)q'\n",
    "s = 'a(tig)c'"
   ]
  },
  {
   "cell_type": "code",
   "execution_count": 149,
   "metadata": {},
   "outputs": [],
   "source": [
    "def bli(s):\n",
    "    print('----call')\n",
    "    stack = ''\n",
    "    for i,c in enumerate(s):\n",
    "        print('      ',stack)\n",
    "        print(c)\n",
    "        if c == '(':\n",
    "            stack+=bli(s[i+1:])\n",
    "            continue\n",
    "            \n",
    "        if c == ')':\n",
    "            print('------------->return1')\n",
    "            return stack[::-1]\n",
    "            continue\n",
    "            \n",
    "        stack+=c\n",
    "    print('------------->return2')\n",
    "    return stack\n",
    "            "
   ]
  },
  {
   "cell_type": "code",
   "execution_count": 150,
   "metadata": {},
   "outputs": [
    {
     "name": "stdout",
     "output_type": "stream",
     "text": [
      "----call\n",
      "       \n",
      "a\n",
      "       a\n",
      "(\n",
      "----call\n",
      "       \n",
      "t\n",
      "       t\n",
      "i\n",
      "       ti\n",
      "g\n",
      "       tig\n",
      ")\n",
      "------------->return1\n",
      "       agit\n",
      "t\n",
      "       agitt\n",
      "i\n",
      "       agitti\n",
      "g\n",
      "       agittig\n",
      ")\n",
      "------------->return1\n"
     ]
    },
    {
     "data": {
      "text/plain": [
       "'gittiga'"
      ]
     },
     "execution_count": 150,
     "metadata": {},
     "output_type": "execute_result"
    }
   ],
   "source": [
    "bli(s)"
   ]
  },
  {
   "cell_type": "code",
   "execution_count": 380,
   "metadata": {},
   "outputs": [],
   "source": [
    "def bli(s):\n",
    "    print(\"----------------bli\")\n",
    "    print(\"called\",s)\n",
    "    stack = ''\n",
    "    \n",
    "#     for i,c in enumerate(s):\n",
    "    print('stack',stack)\n",
    "    print('c---->',s[0])\n",
    "\n",
    "    if s[0] == '(':\n",
    "        stack+=bli(s[1:][::-1])\n",
    "        return stack\n",
    "        \n",
    "    if s[0] == ')':\n",
    "        stack=bli(s[1:])+stack\n",
    "        return stack\n",
    "\n",
    "    if len(s) > 1:\n",
    "        stack=bli(s[1:])+stack\n",
    "\n",
    "    stack=s[0]+stack\n",
    "        \n",
    "    return stack\n",
    "            "
   ]
  },
  {
   "cell_type": "code",
   "execution_count": 381,
   "metadata": {},
   "outputs": [
    {
     "name": "stdout",
     "output_type": "stream",
     "text": [
      "----------------bli\n",
      "called ab(21)e\n",
      "stack \n",
      "c----> a\n",
      "----------------bli\n",
      "called b(21)e\n",
      "stack \n",
      "c----> b\n",
      "----------------bli\n",
      "called (21)e\n",
      "stack \n",
      "c----> (\n",
      "----------------bli\n",
      "called e)12\n",
      "stack \n",
      "c----> e\n",
      "----------------bli\n",
      "called )12\n",
      "stack \n",
      "c----> )\n",
      "----------------bli\n",
      "called 12\n",
      "stack \n",
      "c----> 1\n",
      "----------------bli\n",
      "called 2\n",
      "stack \n",
      "c----> 2\n"
     ]
    },
    {
     "data": {
      "text/plain": [
       "'abe12'"
      ]
     },
     "execution_count": 381,
     "metadata": {},
     "output_type": "execute_result"
    }
   ],
   "source": [
    "s = 'ab(21)e'\n",
    "bli(s)"
   ]
  },
  {
   "cell_type": "code",
   "execution_count": null,
   "metadata": {},
   "outputs": [],
   "source": []
  },
  {
   "cell_type": "code",
   "execution_count": 285,
   "metadata": {},
   "outputs": [],
   "source": [
    "def u(i):\n",
    "    i.append(1)\n",
    "i=[]"
   ]
  },
  {
   "cell_type": "code",
   "execution_count": 290,
   "metadata": {},
   "outputs": [],
   "source": [
    "u(i)"
   ]
  },
  {
   "cell_type": "code",
   "execution_count": 291,
   "metadata": {},
   "outputs": [
    {
     "data": {
      "text/plain": [
       "[1, 1, 1]"
      ]
     },
     "execution_count": 291,
     "metadata": {},
     "output_type": "execute_result"
    }
   ],
   "source": [
    "i"
   ]
  },
  {
   "cell_type": "code",
   "execution_count": 368,
   "metadata": {},
   "outputs": [],
   "source": []
  },
  {
   "cell_type": "code",
   "execution_count": 369,
   "metadata": {},
   "outputs": [],
   "source": [
    "t = [(i,t) for i,t in enumerate(list(s)) if t=='(' or t==')']"
   ]
  },
  {
   "cell_type": "code",
   "execution_count": 370,
   "metadata": {},
   "outputs": [
    {
     "data": {
      "text/plain": [
       "[(2, '('), (3, '('), (6, ')'), (8, '('), (11, ')'), (12, ')')]"
      ]
     },
     "execution_count": 370,
     "metadata": {},
     "output_type": "execute_result"
    }
   ],
   "source": [
    "t"
   ]
  },
  {
   "cell_type": "code",
   "execution_count": 432,
   "metadata": {},
   "outputs": [
    {
     "name": "stdout",
     "output_type": "stream",
     "text": [
      "i 0 --> c c\n",
      "i 1 --> c o\n",
      "i 2 --> c (\n",
      "i 3 --> c d\n",
      "i 4 --> c e\n",
      "i 5 --> c (\n",
      "i 6 --> c f\n",
      "i 7 --> c i\n",
      "i 8 --> c g\n",
      "i 9 --> c h\n",
      "i 10 --> c t\n",
      "stack [2, 5]\n",
      "co(de(fight)s)\n",
      "6 -- 10\n",
      "co(de(\n",
      "fight --> inverte --> thgif\n",
      "co(de(thgif)s)\n",
      "i 11 --> c )\n",
      "i 12 --> c s\n",
      "stack [2]\n",
      "co(de(thgif)s)\n",
      "3 -- 12\n",
      "co(\n",
      "de(thgif)s --> inverte --> s)fight(ed\n",
      "co(s)fight(ed)\n",
      "i 13 --> c )\n",
      "co(s)fight(ed)\n",
      "cosfighted\n"
     ]
    }
   ],
   "source": [
    "s = 'co(de(fight)s)'\n",
    "o_stack = []\n",
    "c_stack = []\n",
    "r = s\n",
    "for i,c in enumerate(list(s)): \n",
    "    if c == '(':\n",
    "        o_stack.append(i)\n",
    "    if c == ')':\n",
    "        print('stack',o_stack)\n",
    "        print(r)\n",
    "        print(o_stack[-1]+1,'--',i-1)\n",
    "        print(r[:o_stack[-1]+1])\n",
    "        print(r[o_stack[-1]+1:i], '--> inverte -->',r[o_stack[-1]+1:i][::-1])\n",
    "        r = r[:o_stack[-1]+1] + r[o_stack[-1]+1:i][::-1] + r[i:]\n",
    "        print(r)\n",
    "        del o_stack[-1]\n",
    "        \n",
    "    print('i',i,'--> c',c)\n",
    "print(r)\n",
    "r = r.replace('(', '').replace(')', '')\n",
    "print(r)"
   ]
  },
  {
   "cell_type": "code",
   "execution_count": null,
   "metadata": {},
   "outputs": [],
   "source": [
    "def reverseParentheses(s):\n",
    "    stack = []\n",
    "    r = s\n",
    "    for i,c in enumerate(list(s)): \n",
    "        if c == '(':\n",
    "            stack.append(i)\n",
    "        if c == ')':\n",
    "            r = r[:stack[-1]+1] + r[stack[-1]+1:i][::-1] + r[i:]\n",
    "            del stack[-1]\n",
    "    return r.replace('(', '').replace(')', '')"
   ]
  }
 ],
 "metadata": {
  "kernelspec": {
   "display_name": "Python 3",
   "language": "python",
   "name": "python3"
  },
  "language_info": {
   "codemirror_mode": {
    "name": "ipython",
    "version": 3
   },
   "file_extension": ".py",
   "mimetype": "text/x-python",
   "name": "python",
   "nbconvert_exporter": "python",
   "pygments_lexer": "ipython3",
   "version": "3.6.3"
  }
 },
 "nbformat": 4,
 "nbformat_minor": 2
}
