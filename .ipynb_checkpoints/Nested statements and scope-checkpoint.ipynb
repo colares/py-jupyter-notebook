{
 "cells": [
  {
   "cell_type": "markdown",
   "metadata": {},
   "source": [
    "# Nested statement and scope\n",
    "- when you create a variable name in python the name is stored in a namespace\n",
    "- variable names also have **scope**, which determines the visibility of that variable name to other parts of your code"
   ]
  },
  {
   "cell_type": "code",
   "execution_count": 6,
   "metadata": {},
   "outputs": [],
   "source": [
    "x = 25\n",
    "\n",
    "def printer():\n",
    "    x = 50 # local scope\n",
    "    return x\n"
   ]
  },
  {
   "cell_type": "code",
   "execution_count": 7,
   "metadata": {},
   "outputs": [
    {
     "name": "stdout",
     "output_type": "stream",
     "text": [
      "25\n"
     ]
    }
   ],
   "source": [
    "print(x)"
   ]
  },
  {
   "cell_type": "code",
   "execution_count": 8,
   "metadata": {},
   "outputs": [
    {
     "name": "stdout",
     "output_type": "stream",
     "text": [
      "50\n"
     ]
    }
   ],
   "source": [
    "print(printer())"
   ]
  },
  {
   "cell_type": "markdown",
   "metadata": {},
   "source": [
    "Name assignments\n",
    "\n",
    "* Name assignments will create or change local names by default\n",
    "* name references search (at most) four scopes, these are:\n",
    "    * local\n",
    "    * enclosing functions\n",
    "    * global\n",
    "    * built-int\n",
    "    \n",
    "### L: Local\n",
    "names assinged in any way whithin a fucntion (def or lambda), and no declared global in that function.\n",
    "\n",
    "**If python couldn't find in local. It looks for:**\n",
    "\n",
    "### E: Enclosing function locals\n",
    "name in the local scope of any and all enclosing function (def or lamdba), from inner to outer\n",
    "\n",
    "**After that, python checks for:**\n",
    "\n",
    "### G: Global (module)\n",
    "names assinged at the top-level of a module file, or declared gobal in a def within the file\n",
    "\n",
    "**After that, python checks for:**\n",
    "\n",
    "### B: Built-in (python)\n",
    "Name preassigned in the built-in names module: open, range, SyntaxError,..."
   ]
  },
  {
   "cell_type": "code",
   "execution_count": 9,
   "metadata": {},
   "outputs": [],
   "source": [
    "# x is local here\n",
    "f = lambda x:x**2"
   ]
  },
  {
   "cell_type": "code",
   "execution_count": 11,
   "metadata": {},
   "outputs": [
    {
     "name": "stdout",
     "output_type": "stream",
     "text": [
      "Hello Sammy\n"
     ]
    }
   ],
   "source": [
    "name = 'This is global name'\n",
    "\n",
    "def greet():\n",
    "    # Enclosing function\n",
    "    # Here! So, python doesn't got check globally\n",
    "    name = 'Sammy'\n",
    "    \n",
    "    def hello():\n",
    "        # Is there a 'name' var in the local scope?\n",
    "        # Nope. So, let's go to enclosings functions\n",
    "        print('Hello ' + name)\n",
    "        \n",
    "    hello()\n",
    "    \n",
    "greet()"
   ]
  },
  {
   "cell_type": "code",
   "execution_count": 13,
   "metadata": {},
   "outputs": [
    {
     "name": "stdout",
     "output_type": "stream",
     "text": [
      "This is global name\n"
     ]
    }
   ],
   "source": [
    "print(name)"
   ]
  },
  {
   "cell_type": "code",
   "execution_count": 14,
   "metadata": {},
   "outputs": [
    {
     "data": {
      "text/plain": [
       "<function len>"
      ]
     },
     "execution_count": 14,
     "metadata": {},
     "output_type": "execute_result"
    }
   ],
   "source": [
    "len"
   ]
  },
  {
   "cell_type": "markdown",
   "metadata": {},
   "source": [
    "#### Local Variables"
   ]
  },
  {
   "cell_type": "code",
   "execution_count": 15,
   "metadata": {},
   "outputs": [
    {
     "name": "stdout",
     "output_type": "stream",
     "text": [
      "function local: x is 50\n",
      "Changed local x to 2\n",
      "x is still 50\n"
     ]
    }
   ],
   "source": [
    "x = 50\n",
    "\n",
    "def func(x):\n",
    "    print('function local: x is', x)\n",
    "    x = 2\n",
    "    print('Changed local x to', x)\n",
    "    \n",
    "func(x)\n",
    "print('x is still', x)"
   ]
  },
  {
   "cell_type": "markdown",
   "metadata": {},
   "source": [
    "#### Global Statement"
   ]
  },
  {
   "cell_type": "code",
   "execution_count": 18,
   "metadata": {},
   "outputs": [
    {
     "name": "stdout",
     "output_type": "stream",
     "text": [
      "Before calling func9), x is: 50\n",
      "this function is now using the global x\n",
      "because of global x is:  50\n",
      "Run func(), changed global x to 2\n",
      "Value of x is, 2\n"
     ]
    }
   ],
   "source": [
    "x = 50\n",
    "\n",
    "def func():\n",
    "    global x\n",
    "    print('this function is now using the global x')\n",
    "    print('because of global x is: ', x)\n",
    "    x = 2\n",
    "    print('Run func(), changed global x to', x)\n",
    "    \n",
    "print('Before calling func9), x is:', x)\n",
    "func()\n",
    "print('Value of x is,', x)"
   ]
  },
  {
   "cell_type": "markdown",
   "metadata": {},
   "source": [
    "**Everything in python is an object**"
   ]
  },
  {
   "cell_type": "markdown",
   "metadata": {},
   "source": [
    "You can you globals() and locals() functions to check what are your current local and global variables"
   ]
  },
  {
   "cell_type": "code",
   "execution_count": null,
   "metadata": {},
   "outputs": [],
   "source": []
  }
 ],
 "metadata": {
  "kernelspec": {
   "display_name": "Python 3",
   "language": "python",
   "name": "python3"
  },
  "language_info": {
   "codemirror_mode": {
    "name": "ipython",
    "version": 3
   },
   "file_extension": ".py",
   "mimetype": "text/x-python",
   "name": "python",
   "nbconvert_exporter": "python",
   "pygments_lexer": "ipython3",
   "version": "3.6.3"
  }
 },
 "nbformat": 4,
 "nbformat_minor": 2
}
