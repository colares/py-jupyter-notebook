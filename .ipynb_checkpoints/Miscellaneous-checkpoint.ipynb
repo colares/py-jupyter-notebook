{
 "cells": [
  {
   "cell_type": "code",
   "execution_count": null,
   "metadata": {},
   "outputs": [],
   "source": [
    "matrix = [[0, 1, 1, 2], \n",
    "          [0, 5, 0, 0], \n",
    "          [2, 0, 3, 3]]\n",
    "\n",
    "height,total = len(matrix),0\n",
    "for x in range(0,len(matrix[0])):  \n",
    "    haunted = False\n",
    "    for y in range(0,height):\n",
    "        if matrix[y][x] == 0:\n",
    "            haunted = True\n",
    "        if haunted:\n",
    "           matrix[y][x] = 0 \n",
    "        total+=matrix[y][x]\n",
    "\n"
   ]
  },
  {
   "cell_type": "code",
   "execution_count": null,
   "metadata": {},
   "outputs": [],
   "source": [
    "sum([1,2,3])"
   ]
  },
  {
   "cell_type": "code",
   "execution_count": null,
   "metadata": {},
   "outputs": [],
   "source": [
    "inputArray = [\"aba\", \"aa\", \"ad\", \"vcd\", \"aba\"]\n",
    "def allLongestStrings(inputArray):\n",
    "    inputArray.sort(key=lambda w: len(w), reverse=True)\n",
    "    return [w for w in inputArray if len(w) > len(inputArray[0])]\n",
    "    \n",
    "    \n",
    "print(allLongestStrings(inputArray))\n"
   ]
  },
  {
   "cell_type": "code",
   "execution_count": null,
   "metadata": {},
   "outputs": [],
   "source": [
    "def commonCharacterCount(s1, s2):\n",
    "    count = 0\n",
    "    for c in s1:\n",
    "        if c in s2:\n",
    "            count+=1\n",
    "            s2 = s2.replace(c,'',1)\n",
    "    print([(lambda c: s2 = s2.replace(c,'',1))(c) for c in s1])\n",
    "    return count\n",
    "    \n",
    "s1 = \"aabcc\"\n",
    "s2 = \"adcaa\"\n",
    "\n",
    "print(commonCharacterCount(s1,s2))"
   ]
  },
  {
   "cell_type": "code",
   "execution_count": null,
   "metadata": {},
   "outputs": [],
   "source": [
    "l = [1,2,3]"
   ]
  },
  {
   "cell_type": "code",
   "execution_count": null,
   "metadata": {},
   "outputs": [],
   "source": [
    "del l[0]"
   ]
  },
  {
   "cell_type": "code",
   "execution_count": null,
   "metadata": {},
   "outputs": [],
   "source": [
    "l"
   ]
  },
  {
   "cell_type": "code",
   "execution_count": null,
   "metadata": {},
   "outputs": [],
   "source": [
    "l.remove(2)"
   ]
  },
  {
   "cell_type": "code",
   "execution_count": null,
   "metadata": {},
   "outputs": [],
   "source": [
    "d = 1234"
   ]
  },
  {
   "cell_type": "code",
   "execution_count": null,
   "metadata": {},
   "outputs": [],
   "source": [
    "d"
   ]
  },
  {
   "cell_type": "code",
   "execution_count": null,
   "metadata": {},
   "outputs": [],
   "source": [
    "list(d[:len(d)//2])"
   ]
  },
  {
   "cell_type": "code",
   "execution_count": null,
   "metadata": {},
   "outputs": [],
   "source": [
    "d = 1230"
   ]
  },
  {
   "cell_type": "code",
   "execution_count": null,
   "metadata": {},
   "outputs": [],
   "source": [
    "l = [int(d) for d in str(d)]"
   ]
  },
  {
   "cell_type": "code",
   "execution_count": null,
   "metadata": {},
   "outputs": [],
   "source": [
    "print(sum(l[:len(l)//2]))\n",
    "print(sum(l[len(l)//2:]))"
   ]
  },
  {
   "cell_type": "code",
   "execution_count": 74,
   "metadata": {},
   "outputs": [],
   "source": [
    "def isLucky(n):\n",
    "    l = [int(d) for d in str(d)]\n",
    "    return sum(l[:len(l)//2]) == sum(l[len(l)//2:])"
   ]
  },
  {
   "cell_type": "code",
   "execution_count": 2,
   "metadata": {},
   "outputs": [],
   "source": [
    "a = [-1, 150, 190, 170, -1, -1, 160, 180]"
   ]
  },
  {
   "cell_type": "code",
   "execution_count": null,
   "metadata": {},
   "outputs": [],
   "source": [
    "l = [b for b in a if b != -1]\n",
    "l.sort()"
   ]
  },
  {
   "cell_type": "code",
   "execution_count": null,
   "metadata": {},
   "outputs": [],
   "source": [
    "l"
   ]
  },
  {
   "cell_type": "code",
   "execution_count": 88,
   "metadata": {},
   "outputs": [],
   "source": [
    "trees = [(i,t) for i,t in enumerate(a) if t == -1 ]"
   ]
  },
  {
   "cell_type": "code",
   "execution_count": 89,
   "metadata": {},
   "outputs": [
    {
     "data": {
      "text/plain": [
       "[(0, -1), (4, -1), (5, -1)]"
      ]
     },
     "execution_count": 89,
     "metadata": {},
     "output_type": "execute_result"
    }
   ],
   "source": [
    "trees\n"
   ]
  },
  {
   "cell_type": "code",
   "execution_count": 17,
   "metadata": {},
   "outputs": [
    {
     "data": {
      "text/plain": [
       "[-1, 190, 180, 170, -1, -1, 160, 150]"
      ]
     },
     "execution_count": 17,
     "metadata": {},
     "output_type": "execute_result"
    }
   ],
   "source": [
    "def sortByHeight(a):\n",
    "    l = sorted([b for b in a if b != -1], reverse=True)\n",
    "    trees = [(i,t) for i,t in enumerate(a) if t == -1 ]\n",
    "    for i,t in trees:\n",
    "        l.insert(i,t)\n",
    "    return l\n",
    "\n",
    "sortByHeight([-1, 150, 190, 170, -1, -1, 160, 180])\n",
    "    "
   ]
  },
  {
   "cell_type": "code",
   "execution_count": 2,
   "metadata": {},
   "outputs": [],
   "source": [
    "bli = [1,2,3]"
   ]
  },
  {
   "cell_type": "code",
   "execution_count": 3,
   "metadata": {},
   "outputs": [],
   "source": [
    "bli.insert(1,3)"
   ]
  },
  {
   "cell_type": "code",
   "execution_count": 13,
   "metadata": {},
   "outputs": [],
   "source": [
    "non1 = sorted(list(filter(lambda x: x != -1, a)), reverse=True)"
   ]
  },
  {
   "cell_type": "code",
   "execution_count": 14,
   "metadata": {},
   "outputs": [
    {
     "data": {
      "text/plain": [
       "[190, 180, 170, 160, 150]"
      ]
     },
     "execution_count": 14,
     "metadata": {},
     "output_type": "execute_result"
    }
   ],
   "source": [
    "non1"
   ]
  },
  {
   "cell_type": "code",
   "execution_count": 104,
   "metadata": {},
   "outputs": [
    {
     "data": {
      "text/plain": [
       "'asdasg(ogaiht)dsa(tig)dsf'"
      ]
     },
     "execution_count": 104,
     "metadata": {},
     "output_type": "execute_result"
    }
   ],
   "source": [
    "s = \"asdasg(ogaiht)dsa(tig)dsf\"\n",
    "s"
   ]
  },
  {
   "cell_type": "code",
   "execution_count": 105,
   "metadata": {},
   "outputs": [],
   "source": [
    "t = [(i,t) for i,t in enumerate(list(s)) if t=='(' or t==')']"
   ]
  },
  {
   "cell_type": "code",
   "execution_count": 106,
   "metadata": {},
   "outputs": [
    {
     "data": {
      "text/plain": [
       "[(6, '('), (13, ')'), (17, '('), (21, ')')]"
      ]
     },
     "execution_count": 106,
     "metadata": {},
     "output_type": "execute_result"
    }
   ],
   "source": [
    "t"
   ]
  },
  {
   "cell_type": "code",
   "execution_count": 107,
   "metadata": {},
   "outputs": [
    {
     "name": "stdout",
     "output_type": "stream",
     "text": [
      "(6, '(') (13, ')')\n",
      "asdasg(\n",
      "thiago\n",
      "(17, '(') (21, ')')\n",
      "asdasg(ogaiht)dsa(\n",
      "git\n",
      "asdasg(thiagoasdasg(ogaiht)dsa(git)dsf\n"
     ]
    }
   ],
   "source": [
    "res = ''\n",
    "for i in range(0,len(t),2):\n",
    "    print(t[i],t[i+1])\n",
    "#     print(s[:t[i][0]] + s[ t[i][0]+1 : t[t+1][0] ][::-1])\n",
    "    print(s[:t[i][0]+1])\n",
    "    print(s[ t[i][0]+1 : t[i+1][0] ][::-1])\n",
    "    res+=s[:t[i][0]+1] + s[ t[i][0]+1 : t[i+1][0] ][::-1]\n",
    "print(res + s[t[-1][0]:])"
   ]
  },
  {
   "cell_type": "code",
   "execution_count": 76,
   "metadata": {},
   "outputs": [
    {
     "name": "stdout",
     "output_type": "stream",
     "text": [
      "wwaacc\n"
     ]
    }
   ],
   "source": [
    "bli = 'wwddcc'\n",
    "bli = bli[:2] + 'aa' + bli[4:]\n",
    "print(bli)"
   ]
  },
  {
   "cell_type": "code",
   "execution_count": 66,
   "metadata": {},
   "outputs": [],
   "source": [
    "a = (1,2)"
   ]
  },
  {
   "cell_type": "code",
   "execution_count": 68,
   "metadata": {},
   "outputs": [
    {
     "data": {
      "text/plain": [
       "1"
      ]
     },
     "execution_count": 68,
     "metadata": {},
     "output_type": "execute_result"
    }
   ],
   "source": [
    "a[0]"
   ]
  },
  {
   "cell_type": "code",
   "execution_count": 108,
   "metadata": {},
   "outputs": [
    {
     "data": {
      "text/plain": [
       "'asdasg(ogaiht)dsa(tig)dsf'"
      ]
     },
     "execution_count": 108,
     "metadata": {},
     "output_type": "execute_result"
    }
   ],
   "source": [
    "s = \"asdasg(ogaiht)dsa(tig)dsf\"\n",
    "s"
   ]
  },
  {
   "cell_type": "code",
   "execution_count": null,
   "metadata": {},
   "outputs": [],
   "source": []
  }
 ],
 "metadata": {
  "kernelspec": {
   "display_name": "Python 3",
   "language": "python",
   "name": "python3"
  },
  "language_info": {
   "codemirror_mode": {
    "name": "ipython",
    "version": 3
   },
   "file_extension": ".py",
   "mimetype": "text/x-python",
   "name": "python",
   "nbconvert_exporter": "python",
   "pygments_lexer": "ipython3",
   "version": "3.6.3"
  }
 },
 "nbformat": 4,
 "nbformat_minor": 2
}
