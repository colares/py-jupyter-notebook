{
 "cells": [
  {
   "cell_type": "code",
   "execution_count": 26,
   "metadata": {},
   "outputs": [],
   "source": [
    "from IPython.display import clear_output"
   ]
  },
  {
   "cell_type": "code",
   "execution_count": 13,
   "metadata": {},
   "outputs": [],
   "source": [
    "moves = {}\n",
    "def init_move_history():\n",
    "    global moves\n",
    "    moves = {'1': {'1': ' ', '2': ' ', '3': ' '}, '2': {'1': ' ', '2': ' ', '3': ' '}, '3': {'1': ' ', '2': ' ', '3': ' '}}"
   ]
  },
  {
   "cell_type": "code",
   "execution_count": 14,
   "metadata": {},
   "outputs": [],
   "source": [
    "def print_board():\n",
    "    global moves\n",
    "    print('[%s][%s][%s]' %(moves['3']['1'], moves['3']['2'], moves['3']['3']))\n",
    "    print('[%s][%s][%s]' %(moves['2']['1'], moves['2']['2'], moves['1']['3']))\n",
    "    print('[%s][%s][%s]' %(moves['1']['1'], moves['1']['2'], moves['1']['3']))"
   ]
  },
  {
   "cell_type": "code",
   "execution_count": 15,
   "metadata": {},
   "outputs": [],
   "source": [
    "def make_a_move(symbol):\n",
    "    x = input('Column (1,2,3):')\n",
    "    y = input('Row (1,2,3):')\n",
    "    return {'x':x, 'y':y, 'symbol':symbol} #"
   ]
  },
  {
   "cell_type": "code",
   "execution_count": 22,
   "metadata": {},
   "outputs": [],
   "source": [
    "def add_move(move):\n",
    "    global moves\n",
    "    print('---<',move)\n",
    "    moves[ move['x'] ][ move['y'] ] = move['symbol']"
   ]
  },
  {
   "cell_type": "code",
   "execution_count": null,
   "metadata": {},
   "outputs": [],
   "source": [
    "# Main\n",
    "init_move_history()\n",
    "\n",
    "print(moves)\n",
    "print_board()\n",
    "add_move(make_a_move('x'))\n",
    "clear_output()\n",
    "\n",
    "print(moves)\n",
    "print_board()\n",
    "add_move(make_a_move('x'))\n",
    "clear_output()\n",
    "\n"
   ]
  },
  {
   "cell_type": "code",
   "execution_count": null,
   "metadata": {},
   "outputs": [],
   "source": []
  }
 ],
 "metadata": {
  "kernelspec": {
   "display_name": "Python 3",
   "language": "python",
   "name": "python3"
  },
  "language_info": {
   "codemirror_mode": {
    "name": "ipython",
    "version": 3
   },
   "file_extension": ".py",
   "mimetype": "text/x-python",
   "name": "python",
   "nbconvert_exporter": "python",
   "pygments_lexer": "ipython3",
   "version": "3.6.3"
  }
 },
 "nbformat": 4,
 "nbformat_minor": 2
}
