{
 "cells": [
  {
   "cell_type": "code",
   "execution_count": 174,
   "metadata": {},
   "outputs": [
    {
     "name": "stdout",
     "output_type": "stream",
     "text": [
      "<built-in method remove of list object at 0x7f814c2adcc8>\n",
      "a in abacabad\n",
      "a not in set()\n",
      "{'a'}\n",
      "unique ['a']\n",
      "b in abacabad\n",
      "b not in {'a'}\n",
      "{'b', 'a'}\n",
      "unique ['a', 'b']\n",
      "a in abacabad\n",
      "a not in {'b', 'a'}\n",
      "{'b', 'a'}\n",
      "unique ['b']\n",
      "c in abacabad\n",
      "c not in {'b', 'a'}\n",
      "{'b', 'c', 'a'}\n",
      "unique ['b', 'c']\n",
      "a in abacabad\n",
      "a not in {'b', 'c', 'a'}\n",
      "{'b', 'c', 'a'}\n",
      "unique ['b', 'c']\n",
      "b in abacabad\n",
      "b not in {'b', 'c', 'a'}\n",
      "{'b', 'c', 'a'}\n",
      "unique ['c']\n",
      "a in abacabad\n",
      "a not in {'b', 'c', 'a'}\n",
      "{'b', 'c', 'a'}\n",
      "unique ['c']\n",
      "d in abacabad\n",
      "d not in {'b', 'c', 'a'}\n",
      "{'d', 'b', 'c', 'a'}\n",
      "unique ['c', 'd']\n"
     ]
    },
    {
     "data": {
      "text/plain": [
       "['c', 'd']"
      ]
     },
     "execution_count": 174,
     "metadata": {},
     "output_type": "execute_result"
    }
   ],
   "source": [
    "s = \"abacabad\"\n",
    "l = list(s).remove\n",
    "print(l)\n",
    "def firstNotRepeatingCharacter(s):\n",
    "    myset = set()\n",
    "    unique = ['_']\n",
    "    for c in s:\n",
    "        print(c,'in',s)\n",
    "        print(c,'not in',myset)\n",
    "        if c not in myset:\n",
    "            myset.add(c)\n",
    "            unique.append(c)\n",
    "        elif c in unique:\n",
    "            unique.remove(c)\n",
    "        print(myset)\n",
    "        print('unique', unique)\n",
    "    return unique\n",
    "\n",
    "firstNotRepeatingCharacter(s)"
   ]
  },
  {
   "cell_type": "code",
   "execution_count": 157,
   "metadata": {},
   "outputs": [
    {
     "data": {
      "text/plain": [
       "{'a', 'c', 'h', 'j', 's'}"
      ]
     },
     "execution_count": 157,
     "metadata": {},
     "output_type": "execute_result"
    }
   ],
   "source": [
    "'asdasd'."
   ]
  },
  {
   "cell_type": "code",
   "execution_count": 153,
   "metadata": {},
   "outputs": [],
   "source": [
    "myset = set()\n"
   ]
  },
  {
   "cell_type": "code",
   "execution_count": 140,
   "metadata": {},
   "outputs": [
    {
     "data": {
      "text/plain": [
       "set()"
      ]
     },
     "execution_count": 140,
     "metadata": {},
     "output_type": "execute_result"
    }
   ],
   "source": [
    "myset.add"
   ]
  },
  {
   "cell_type": "code",
   "execution_count": 165,
   "metadata": {},
   "outputs": [],
   "source": [
    "l = [1,2]"
   ]
  },
  {
   "cell_type": "code",
   "execution_count": null,
   "metadata": {},
   "outputs": [],
   "source": [
    "l.remove"
   ]
  }
 ],
 "metadata": {
  "kernelspec": {
   "display_name": "Python 3",
   "language": "python",
   "name": "python3"
  },
  "language_info": {
   "codemirror_mode": {
    "name": "ipython",
    "version": 3
   },
   "file_extension": ".py",
   "mimetype": "text/x-python",
   "name": "python",
   "nbconvert_exporter": "python",
   "pygments_lexer": "ipython3",
   "version": "3.6.3"
  }
 },
 "nbformat": 4,
 "nbformat_minor": 2
}
