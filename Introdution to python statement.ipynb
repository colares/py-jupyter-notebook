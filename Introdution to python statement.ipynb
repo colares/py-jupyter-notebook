{
 "cells": [
  {
   "cell_type": "markdown",
   "metadata": {},
   "source": [
    "# Introdution to python statement"
   ]
  },
  {
   "cell_type": "markdown",
   "metadata": {},
   "source": [
    "* comparar python com outras linguagens, como c++\n",
    "* para acelerar seu aprendizado no python\n",
    "* se você vem do python, fará vc ler com mais facilidade outras linguagens no futuro"
   ]
  },
  {
   "cell_type": "markdown",
   "metadata": {},
   "source": [
    "Outras linguagens:\n",
    "```\n",
    "if (a>b) {\n",
    "    a = 2;\n",
    "    b = 3;\n",
    "}\n",
    "```\n",
    "\n",
    "Python:\n",
    "```\n",
    "if a>b:\n",
    "    a = 2\n",
    "    b = 3\n",
    "```\n",
    "\n",
    "- se livra de (), {} e ;\n",
    "- coisas importantes: colon (:) e whitespace para identação\n",
    "\n",
    "\n",
    "### Indentação\n",
    "\n",
    "Outras linguagens:\n",
    "```\n",
    "if (x)\n",
    "    if(y)\n",
    "        code-statement;\n",
    "else\n",
    "    another-code-statement;\n",
    "```\n",
    "\n",
    "Python:\n",
    "```\n",
    "if x:\n",
    "    if y:\n",
    "        code-statement\n",
    "else:\n",
    "    another-code-statement\n",
    "```"
   ]
  },
  {
   "cell_type": "code",
   "execution_count": null,
   "metadata": {},
   "outputs": [],
   "source": []
  }
 ],
 "metadata": {
  "kernelspec": {
   "display_name": "Python 3",
   "language": "python",
   "name": "python3"
  },
  "language_info": {
   "codemirror_mode": {
    "name": "ipython",
    "version": 3
   },
   "file_extension": ".py",
   "mimetype": "text/x-python",
   "name": "python",
   "nbconvert_exporter": "python",
   "pygments_lexer": "ipython3",
   "version": "3.6.3"
  }
 },
 "nbformat": 4,
 "nbformat_minor": 2
}
